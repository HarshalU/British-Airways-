{
  "nbformat": 4,
  "nbformat_minor": 0,
  "metadata": {
    "colab": {
      "provenance": []
    },
    "kernelspec": {
      "name": "python3",
      "display_name": "Python 3"
    },
    "language_info": {
      "name": "python"
    }
  },
  "cells": [
    {
      "cell_type": "code",
      "execution_count": null,
      "metadata": {
        "id": "R0D85ECDg5Sl"
      },
      "outputs": [],
      "source": [
        "import requests\n",
        "from bs4 import BeautifulSoup\n",
        "import pandas as pd\n",
        "from collections import Counter\n",
        "import re"
      ]
    },
    {
      "cell_type": "code",
      "source": [
        "base_url = \"https://www.airlinequality.com/airline-reviews/british-airways\"\n",
        "pages = 10\n",
        "page_size = 100\n",
        "\n",
        "reviews = []\n",
        "\n",
        "# for i in range(1, pages + 1):\n",
        "for i in range(1, pages + 1):\n",
        "\n",
        "    print(f\"Scraping page {i}\")\n",
        "\n",
        "    # Create URL to collect links from paginated data\n",
        "    url = f\"{base_url}/page/{i}/?sortby=post_date%3ADesc&pagesize={page_size}\"\n",
        "\n",
        "    # Collect HTML data from this page\n",
        "    response = requests.get(url)\n",
        "\n",
        "    # Parse content\n",
        "    content = response.content\n",
        "    parsed_content = BeautifulSoup(content, 'html.parser')\n",
        "    for para in parsed_content.find_all(\"div\", {\"class\": \"text_content\"}):\n",
        "        reviews.append(para.get_text())\n",
        "    \n",
        "    print(f\"   ---> {len(reviews)} total reviews\")"
      ],
      "metadata": {
        "id": "j48sSIsvhgpZ",
        "colab": {
          "base_uri": "https://localhost:8080/"
        },
        "outputId": "54fe3c40-bb0e-4ca1-dd78-0a353a1d2d2c"
      },
      "execution_count": null,
      "outputs": [
        {
          "output_type": "stream",
          "name": "stdout",
          "text": [
            "Scraping page 1\n",
            "   ---> 100 total reviews\n",
            "Scraping page 2\n",
            "   ---> 200 total reviews\n",
            "Scraping page 3\n",
            "   ---> 300 total reviews\n",
            "Scraping page 4\n",
            "   ---> 400 total reviews\n",
            "Scraping page 5\n",
            "   ---> 500 total reviews\n",
            "Scraping page 6\n",
            "   ---> 600 total reviews\n",
            "Scraping page 7\n",
            "   ---> 700 total reviews\n",
            "Scraping page 8\n",
            "   ---> 800 total reviews\n",
            "Scraping page 9\n",
            "   ---> 900 total reviews\n",
            "Scraping page 10\n",
            "   ---> 1000 total reviews\n"
          ]
        }
      ]
    },
    {
      "cell_type": "code",
      "source": [
        "df = pd.DataFrame()\n",
        "df[\"reviews\"] = reviews\n",
        "df.head()"
      ],
      "metadata": {
        "id": "LSFolqb4LW0s",
        "colab": {
          "base_uri": "https://localhost:8080/",
          "height": 206
        },
        "outputId": "0faef5bb-cdb1-4813-f3a7-4ba8ce24d337"
      },
      "execution_count": null,
      "outputs": [
        {
          "output_type": "execute_result",
          "data": {
            "text/plain": [
              "                                             reviews\n",
              "0  ✅ Trip Verified |  Flew ATL to LHR 8th Jan 202...\n",
              "1  Not Verified |  Great thing about British Airw...\n",
              "2  Not Verified | The staff are friendly. The pla...\n",
              "3  ✅ Trip Verified | Probably the worst business ...\n",
              "4  ✅ Trip Verified | Definitely not recommended, ..."
            ],
            "text/html": [
              "\n",
              "  <div id=\"df-161da358-f82e-4dec-9568-94ac34f01b3b\">\n",
              "    <div class=\"colab-df-container\">\n",
              "      <div>\n",
              "<style scoped>\n",
              "    .dataframe tbody tr th:only-of-type {\n",
              "        vertical-align: middle;\n",
              "    }\n",
              "\n",
              "    .dataframe tbody tr th {\n",
              "        vertical-align: top;\n",
              "    }\n",
              "\n",
              "    .dataframe thead th {\n",
              "        text-align: right;\n",
              "    }\n",
              "</style>\n",
              "<table border=\"1\" class=\"dataframe\">\n",
              "  <thead>\n",
              "    <tr style=\"text-align: right;\">\n",
              "      <th></th>\n",
              "      <th>reviews</th>\n",
              "    </tr>\n",
              "  </thead>\n",
              "  <tbody>\n",
              "    <tr>\n",
              "      <th>0</th>\n",
              "      <td>✅ Trip Verified |  Flew ATL to LHR 8th Jan 202...</td>\n",
              "    </tr>\n",
              "    <tr>\n",
              "      <th>1</th>\n",
              "      <td>Not Verified |  Great thing about British Airw...</td>\n",
              "    </tr>\n",
              "    <tr>\n",
              "      <th>2</th>\n",
              "      <td>Not Verified | The staff are friendly. The pla...</td>\n",
              "    </tr>\n",
              "    <tr>\n",
              "      <th>3</th>\n",
              "      <td>✅ Trip Verified | Probably the worst business ...</td>\n",
              "    </tr>\n",
              "    <tr>\n",
              "      <th>4</th>\n",
              "      <td>✅ Trip Verified | Definitely not recommended, ...</td>\n",
              "    </tr>\n",
              "  </tbody>\n",
              "</table>\n",
              "</div>\n",
              "      <button class=\"colab-df-convert\" onclick=\"convertToInteractive('df-161da358-f82e-4dec-9568-94ac34f01b3b')\"\n",
              "              title=\"Convert this dataframe to an interactive table.\"\n",
              "              style=\"display:none;\">\n",
              "        \n",
              "  <svg xmlns=\"http://www.w3.org/2000/svg\" height=\"24px\"viewBox=\"0 0 24 24\"\n",
              "       width=\"24px\">\n",
              "    <path d=\"M0 0h24v24H0V0z\" fill=\"none\"/>\n",
              "    <path d=\"M18.56 5.44l.94 2.06.94-2.06 2.06-.94-2.06-.94-.94-2.06-.94 2.06-2.06.94zm-11 1L8.5 8.5l.94-2.06 2.06-.94-2.06-.94L8.5 2.5l-.94 2.06-2.06.94zm10 10l.94 2.06.94-2.06 2.06-.94-2.06-.94-.94-2.06-.94 2.06-2.06.94z\"/><path d=\"M17.41 7.96l-1.37-1.37c-.4-.4-.92-.59-1.43-.59-.52 0-1.04.2-1.43.59L10.3 9.45l-7.72 7.72c-.78.78-.78 2.05 0 2.83L4 21.41c.39.39.9.59 1.41.59.51 0 1.02-.2 1.41-.59l7.78-7.78 2.81-2.81c.8-.78.8-2.07 0-2.86zM5.41 20L4 18.59l7.72-7.72 1.47 1.35L5.41 20z\"/>\n",
              "  </svg>\n",
              "      </button>\n",
              "      \n",
              "  <style>\n",
              "    .colab-df-container {\n",
              "      display:flex;\n",
              "      flex-wrap:wrap;\n",
              "      gap: 12px;\n",
              "    }\n",
              "\n",
              "    .colab-df-convert {\n",
              "      background-color: #E8F0FE;\n",
              "      border: none;\n",
              "      border-radius: 50%;\n",
              "      cursor: pointer;\n",
              "      display: none;\n",
              "      fill: #1967D2;\n",
              "      height: 32px;\n",
              "      padding: 0 0 0 0;\n",
              "      width: 32px;\n",
              "    }\n",
              "\n",
              "    .colab-df-convert:hover {\n",
              "      background-color: #E2EBFA;\n",
              "      box-shadow: 0px 1px 2px rgba(60, 64, 67, 0.3), 0px 1px 3px 1px rgba(60, 64, 67, 0.15);\n",
              "      fill: #174EA6;\n",
              "    }\n",
              "\n",
              "    [theme=dark] .colab-df-convert {\n",
              "      background-color: #3B4455;\n",
              "      fill: #D2E3FC;\n",
              "    }\n",
              "\n",
              "    [theme=dark] .colab-df-convert:hover {\n",
              "      background-color: #434B5C;\n",
              "      box-shadow: 0px 1px 3px 1px rgba(0, 0, 0, 0.15);\n",
              "      filter: drop-shadow(0px 1px 2px rgba(0, 0, 0, 0.3));\n",
              "      fill: #FFFFFF;\n",
              "    }\n",
              "  </style>\n",
              "\n",
              "      <script>\n",
              "        const buttonEl =\n",
              "          document.querySelector('#df-161da358-f82e-4dec-9568-94ac34f01b3b button.colab-df-convert');\n",
              "        buttonEl.style.display =\n",
              "          google.colab.kernel.accessAllowed ? 'block' : 'none';\n",
              "\n",
              "        async function convertToInteractive(key) {\n",
              "          const element = document.querySelector('#df-161da358-f82e-4dec-9568-94ac34f01b3b');\n",
              "          const dataTable =\n",
              "            await google.colab.kernel.invokeFunction('convertToInteractive',\n",
              "                                                     [key], {});\n",
              "          if (!dataTable) return;\n",
              "\n",
              "          const docLinkHtml = 'Like what you see? Visit the ' +\n",
              "            '<a target=\"_blank\" href=https://colab.research.google.com/notebooks/data_table.ipynb>data table notebook</a>'\n",
              "            + ' to learn more about interactive tables.';\n",
              "          element.innerHTML = '';\n",
              "          dataTable['output_type'] = 'display_data';\n",
              "          await google.colab.output.renderOutput(dataTable, element);\n",
              "          const docLink = document.createElement('div');\n",
              "          docLink.innerHTML = docLinkHtml;\n",
              "          element.appendChild(docLink);\n",
              "        }\n",
              "      </script>\n",
              "    </div>\n",
              "  </div>\n",
              "  "
            ]
          },
          "metadata": {},
          "execution_count": 3
        }
      ]
    },
    {
      "cell_type": "code",
      "source": [
        "#df.to_csv(\"data/BA_reviews.csv\")"
      ],
      "metadata": {
        "id": "0kohTt4lLYU9"
      },
      "execution_count": null,
      "outputs": []
    },
    {
      "cell_type": "code",
      "source": [
        "h = []\n",
        "g = []"
      ],
      "metadata": {
        "id": "9reHr5hgFBcW"
      },
      "execution_count": null,
      "outputs": []
    },
    {
      "cell_type": "code",
      "source": [
        "for i in reviews:\n",
        "  f = i.split(\"|\")\n",
        "  h.append(f[0])\n",
        "  g.append(f[1])"
      ],
      "metadata": {
        "id": "7eRfyVwWFdAa"
      },
      "execution_count": null,
      "outputs": []
    },
    {
      "cell_type": "code",
      "source": [
        "def unique(list1): \n",
        "    # initialize a null list\n",
        "    unique_list = [] \n",
        "    # traverse for all elements\n",
        "    for x in list1:\n",
        "        # check if exists in unique_list or not\n",
        "        if x not in unique_list:\n",
        "            unique_list.append(x)\n",
        "    # print list\n",
        "    for x in unique_list:\n",
        "        print (x)"
      ],
      "metadata": {
        "id": "s1BZqD0tP7mJ"
      },
      "execution_count": null,
      "outputs": []
    },
    {
      "cell_type": "code",
      "source": [
        "unique(h)"
      ],
      "metadata": {
        "colab": {
          "base_uri": "https://localhost:8080/"
        },
        "id": "kVRLhLPZP-uT",
        "outputId": "d31d91ba-517e-40f3-96b5-a399bbf8061f"
      },
      "execution_count": null,
      "outputs": [
        {
          "output_type": "stream",
          "name": "stdout",
          "text": [
            "✅ Trip Verified \n",
            "Not Verified \n",
            "❎ Not Verified \n"
          ]
        }
      ]
    },
    {
      "cell_type": "code",
      "source": [
        "Counter(h).values()"
      ],
      "metadata": {
        "colab": {
          "base_uri": "https://localhost:8080/"
        },
        "id": "s_KaXSHiQavJ",
        "outputId": "f9f00d73-972c-4bb0-b361-4d39982ac4df"
      },
      "execution_count": null,
      "outputs": [
        {
          "output_type": "execute_result",
          "data": {
            "text/plain": [
              "dict_values([832, 166, 2])"
            ]
          },
          "metadata": {},
          "execution_count": 9
        }
      ]
    },
    {
      "cell_type": "code",
      "source": [
        "len(g)"
      ],
      "metadata": {
        "colab": {
          "base_uri": "https://localhost:8080/"
        },
        "id": "_WfNC7mzd75v",
        "outputId": "b5e538ac-1f0a-4b75-ef81-977c0e3882da"
      },
      "execution_count": null,
      "outputs": [
        {
          "output_type": "execute_result",
          "data": {
            "text/plain": [
              "1000"
            ]
          },
          "metadata": {},
          "execution_count": 10
        }
      ]
    },
    {
      "cell_type": "code",
      "source": [
        "len(h)"
      ],
      "metadata": {
        "colab": {
          "base_uri": "https://localhost:8080/"
        },
        "id": "4i_sOiJ3e96I",
        "outputId": "ffaf1588-82be-4fb9-dbaa-f8553ba97211"
      },
      "execution_count": null,
      "outputs": [
        {
          "output_type": "execute_result",
          "data": {
            "text/plain": [
              "1000"
            ]
          },
          "metadata": {},
          "execution_count": 11
        }
      ]
    },
    {
      "cell_type": "code",
      "source": [
        "#Customer Service \n",
        "#Comfort and space\n",
        "#Great price with great deals\n",
        "#entertainment \n",
        "#inflight meals "
      ],
      "metadata": {
        "id": "tluBKBVwz-89"
      },
      "execution_count": null,
      "outputs": []
    },
    {
      "cell_type": "code",
      "source": [
        "#cons \n",
        "cons=['poor ','uncomfortable','Zero','zero','old','cold','overcooked','undercooked','delayed','vague','worst','Chaos','chaos',\n",
        "      'Disappointing','disappointing']"
      ],
      "metadata": {
        "id": "ZE3CItvo9Vru"
      },
      "execution_count": null,
      "outputs": []
    },
    {
      "cell_type": "code",
      "source": [
        "# pros\n",
        "pros=['great','Great','enjoyed','liked','good','Superb','superb']"
      ],
      "metadata": {
        "id": "oUzRQQzh9V1Z"
      },
      "execution_count": null,
      "outputs": []
    },
    {
      "cell_type": "code",
      "source": [
        "df_review = pd.DataFrame(\n",
        "    {\n",
        "     'Reviews': g,\n",
        "     'Customer_service': g,\n",
        "     'Comfort_and_space' : g,'inflight_meals': g,'business_class':g\n",
        "    })"
      ],
      "metadata": {
        "id": "GAklcAOEtZLb"
      },
      "execution_count": null,
      "outputs": []
    },
    {
      "cell_type": "code",
      "source": [
        "df1=df_review['Customer_service'].str.contains('delayed |Delayed |busy |chaos |long duartion |long queue |arrogant |rude ',flags=re.IGNORECASE)"
      ],
      "metadata": {
        "id": "x8HB-2vV71vd"
      },
      "execution_count": null,
      "outputs": []
    },
    {
      "cell_type": "code",
      "source": [
        "df2=df_review['Comfort_and_space'].str.contains('poor |uncomfortable |old |cold |disappointing |small |no leg-room |no leg room |cramped seats ',flags=re.IGNORECASE)"
      ],
      "metadata": {
        "id": "cYe-hkoH-CQy"
      },
      "execution_count": null,
      "outputs": []
    },
    {
      "cell_type": "code",
      "source": [
        "df3=df_review['inflight_meals'].str.contains('poor food |cold |overcooked |undercooked |worst food |less quantity |bland |no taste ',flags=re.IGNORECASE)"
      ],
      "metadata": {
        "id": "YXhTl_c0-DxM"
      },
      "execution_count": null,
      "outputs": []
    },
    {
      "cell_type": "code",
      "source": [
        "df4=df_review['business_class'].str.contains('business class |Business class ',flags=re.IGNORECASE)"
      ],
      "metadata": {
        "id": "gZMl4sPz-D3c"
      },
      "execution_count": null,
      "outputs": []
    },
    {
      "cell_type": "code",
      "source": [
        "df_final = pd.DataFrame(\n",
        "    {'V/Nv': h,\n",
        "     'Reviews': g,\n",
        "     'Customer_service': df1,\n",
        "     'Comfort_and_space' : df2,\n",
        "     'inflight_meals': df3,\n",
        "     'business_class':df4   \n",
        "    }\n",
        ")"
      ],
      "metadata": {
        "id": "9qFrFqxcArmN"
      },
      "execution_count": null,
      "outputs": []
    },
    {
      "cell_type": "code",
      "source": [
        "df_final['Customer_service'] = df_final['Customer_service'].map({True: 'True', False: 'False'})\n",
        "df_final['Comfort_and_space'] = df_final['Comfort_and_space'].map({True: 'True', False: 'False'})\n",
        "df_final['inflight_meals'] = df_final['inflight_meals'].map({True: 'True', False: 'False'})\n",
        "df_final['business_class'] = df_final['business_class'].map({True: 'True', False: 'False'})"
      ],
      "metadata": {
        "id": "0jazR5FxIPrP"
      },
      "execution_count": null,
      "outputs": []
    },
    {
      "cell_type": "code",
      "source": [
        "df_final['V/Nv'] = df_final['V/Nv'].replace(['✅ Trip Verified ','Not Verified ','❎ Not Verified '],['V','Nv','Nv'])\n",
        "df_final['Customer_service'] = df_final['Customer_service'].replace(['False','True'],[0,1])\n",
        "df_final['Comfort_and_space'] = df_final['Comfort_and_space'].replace(['False','True'],[0,1])\n",
        "df_final['inflight_meals'] = df_final['inflight_meals'].replace(['False','True'],[0,1])\n",
        "df_final['business_class'] = df_final['business_class'].replace(['False','True'],[0,1])"
      ],
      "metadata": {
        "id": "mC18mJYnBEij"
      },
      "execution_count": null,
      "outputs": []
    },
    {
      "cell_type": "code",
      "source": [
        "def label_race (row):\n",
        "  if row['business_class']==1:\n",
        "    if row['Customer_service'] + row['Comfort_and_space'] + row['inflight_meals'] == 3:\n",
        "      return 'F'\n",
        "    if row['Customer_service']  + row['Comfort_and_space'] == 2:\n",
        "      return 'F(C/s,Service)'\n",
        "    if row['Customer_service']  + row['inflight_meals'] == 2:\n",
        "      return 'F(Service,Food)'\n",
        "    if row['Comfort_and_space'] + row['inflight_meals'] == 2:\n",
        "      return 'F(Food,C/s)'\n",
        "    if row['Customer_service'] == 1:\n",
        "      return 'F(service)'\n",
        "    if row['Comfort_and_space'] == 1:\n",
        "      return 'F(C/s)'\n",
        "    if row['inflight_meals'] == 1:\n",
        "      return 'F(Food)'\n",
        "    return 'A Business'\n",
        "  else:\n",
        "   if row['Customer_service'] + row['Comfort_and_space'] + row['inflight_meals'] == 3:\n",
        "      return 'D'\n",
        "   if row['Customer_service'] + row['Comfort_and_space'] + row['inflight_meals'] == 2:\n",
        "      return 'C'\n",
        "   if row['Customer_service'] + row['Comfort_and_space'] + row['inflight_meals'] == 1:\n",
        "      return 'B'\n",
        "   return 'A'"
      ],
      "metadata": {
        "id": "vieDxEUFBNqp"
      },
      "execution_count": null,
      "outputs": []
    },
    {
      "cell_type": "code",
      "source": [
        "df_final['Overall'] = df_final.apply (lambda row: label_race(row), axis=1)"
      ],
      "metadata": {
        "id": "I0MpTHXfJnqz"
      },
      "execution_count": null,
      "outputs": []
    },
    {
      "cell_type": "code",
      "source": [
        "df_final['Overall'].value_counts()"
      ],
      "metadata": {
        "colab": {
          "base_uri": "https://localhost:8080/"
        },
        "id": "KDSk26LJJwZU",
        "outputId": "9c136844-af00-4745-c72f-fee11d7ee7b8"
      },
      "execution_count": null,
      "outputs": [
        {
          "output_type": "execute_result",
          "data": {
            "text/plain": [
              "A                 435\n",
              "B                 326\n",
              "C                  82\n",
              "A Business         72\n",
              "F(C/s)             59\n",
              "F(C/s,Service)      9\n",
              "F(service)          9\n",
              "F(Food,C/s)         5\n",
              "D                   2\n",
              "F                   1\n",
              "Name: Overall, dtype: int64"
            ]
          },
          "metadata": {},
          "execution_count": 29
        }
      ]
    },
    {
      "cell_type": "code",
      "source": [
        "df_final['business_class'].value_counts()"
      ],
      "metadata": {
        "colab": {
          "base_uri": "https://localhost:8080/"
        },
        "id": "GvE3IDgaMmq3",
        "outputId": "a733cdc6-1e4e-45aa-86d5-94519749756b"
      },
      "execution_count": null,
      "outputs": [
        {
          "output_type": "execute_result",
          "data": {
            "text/plain": [
              "0    845\n",
              "1    155\n",
              "Name: business_class, dtype: int64"
            ]
          },
          "metadata": {},
          "execution_count": 26
        }
      ]
    },
    {
      "cell_type": "code",
      "source": [
        "import matplotlib.pyplot as plt\n",
        "import numpy as np"
      ],
      "metadata": {
        "id": "Twkb-z-fcN_d"
      },
      "execution_count": null,
      "outputs": []
    },
    {
      "cell_type": "code",
      "source": [
        "y = np.array([1.2,6.0,10.85,10.85,71.1])\n",
        "mylabels = [\"All Bad\",\"Food,Comfort\",\"Service\", \"Comfort,Service\", \"Comfort\"]\n",
        "\n",
        "plt.pie(y, labels = mylabels)\n",
        "plt.show() "
      ],
      "metadata": {
        "colab": {
          "base_uri": "https://localhost:8080/",
          "height": 248
        },
        "id": "x1CZodeBquwX",
        "outputId": "6dc6b1be-90c1-46f1-99a6-ad285be45ccc"
      },
      "execution_count": null,
      "outputs": [
        {
          "output_type": "display_data",
          "data": {
            "text/plain": [
              "<Figure size 432x288 with 1 Axes>"
            ],
            "image/png": "[encoded data removed]"
          },
          "metadata": {}
        }
      ]
    },
    {
      "cell_type": "code",
      "source": [
        "x = np.array([\"A\", \"B\", \"C\", \"D\"])\n",
        "y = np.array([435, 326, 82, 2])\n",
        "\n",
        "plt.barh(x,y)\n",
        "plt.show()"
      ],
      "metadata": {
        "colab": {
          "base_uri": "https://localhost:8080/",
          "height": 270
        },
        "id": "TNQGDScqslfy",
        "outputId": "c3769975-84fc-4741-d4ec-24895070661c"
      },
      "execution_count": null,
      "outputs": [
        {
          "output_type": "display_data",
          "data": {
            "text/plain": [
              "<Figure size 432x288 with 1 Axes>"
            ],
            "image/png": "[encoded data removed]"
          },
          "metadata": {
            "needs_background": "light"
          }
        }
      ]
    },
    {
      "cell_type": "code",
      "source": [
        "fig = plt.figure(figsize = (10, 5))\n",
        " \n",
        "# creating the bar plot\n",
        "plt.bar(x, y, color ='maroon',\n",
        "        width = 0.4)\n",
        "plt.rc('axes', titlesize=16)\n",
        "plt.rc('xtick', labelsize=16)\n",
        "plt.rc('axes', labelsize=16)\n",
        "plt.xlabel(\" Grade\")\n",
        "plt.ylabel(\"Amount of reviews\")\n",
        "plt.title(\"Total reviews\")\n",
        "plt.show()"
      ],
      "metadata": {
        "colab": {
          "base_uri": "https://localhost:8080/",
          "height": 362
        },
        "id": "-QivrVvKyKkX",
        "outputId": "22bc93c4-ba79-4538-9e4e-069e59cc8408"
      },
      "execution_count": null,
      "outputs": [
        {
          "output_type": "display_data",
          "data": {
            "text/plain": [
              "<Figure size 720x360 with 1 Axes>"
            ],
            "image/png": "[encoded data removed]"
          },
          "metadata": {
            "needs_background": "light"
          }
        }
      ]
    }
  ]
}